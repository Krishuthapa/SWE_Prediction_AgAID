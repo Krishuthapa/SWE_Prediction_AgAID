{
 "cells": [
  {
   "cell_type": "code",
   "execution_count": 11,
   "id": "e457685c",
   "metadata": {},
   "outputs": [],
   "source": [
    "import csv \n",
    "\n",
    "import numpy as np\n",
    "import pandas as pd\n",
    "import geopy.distance as geo_dis\n",
    "import plotly.express as plt\n",
    "from matplotlib.widgets import Slider\n",
    "import scipy"
   ]
  },
  {
   "cell_type": "code",
   "execution_count": 12,
   "id": "f18a5ac7",
   "metadata": {},
   "outputs": [],
   "source": [
    "def getFilenames():\n",
    "    file_names = []\n",
    "\n",
    "    for i in range(15):\n",
    "        file_names.append('Year_{}.csv'.format(2001 + i))\n",
    "        \n",
    "    return file_names;"
   ]
  },
  {
   "cell_type": "code",
   "execution_count": 13,
   "id": "8bc27ed1",
   "metadata": {},
   "outputs": [],
   "source": [
    "def getSnowGridLatLonMap():\n",
    "    snotel_grids_info = pd.read_csv('SNOTEL_join_PMW_grids.csv')\n",
    "\n",
    "    grid_lat_lon_map = {}\n",
    "\n",
    "    for index, row_info in snotel_grids_info.iterrows():\n",
    "        grid_lat_lon_map[row_info['PMW_lat_lon']] = row_info['Station.Name']\n",
    "        \n",
    "    return grid_lat_lon_map\n",
    "    "
   ]
  },
  {
   "cell_type": "code",
   "execution_count": 14,
   "id": "fec37d44",
   "metadata": {},
   "outputs": [],
   "source": [
    "def getCorrespondingSnotelName(lat_lon_values, lat_lon_map):\n",
    "    snotel_names = []\n",
    "    \n",
    "    for lat_lon in lat_lon_values:\n",
    "        snotel_names.append(lat_lon_map['{}'.format(lat_lon)])\n",
    "    \n",
    "    return snotel_names\n",
    "    \n",
    "def getDFData():\n",
    "    file_names = getFilenames()\n",
    "    \n",
    "    grid_lat_lon_map = getSnowGridLatLonMap()\n",
    "    \n",
    "    all_year_dataframes = []\n",
    "\n",
    "    for index, filename in enumerate(file_names):\n",
    "        file = pd.read_csv(filename,header = 0)\n",
    "    \n",
    "        file['Snotel Location'] = getCorrespondingSnotelName(file['lat_lon'], grid_lat_lon_map)\n",
    "    \n",
    "        pivot_values_columns = []\n",
    "        for column in file.columns:\n",
    "            if (column != 'Snotel Location'  and column != 'x' and column != 'y' and column != 'lat_lon'):\n",
    "                pivot_values_columns.append(column)\n",
    "    \n",
    "    \n",
    "        pivoted_table = pd.pivot_table(file, columns=['Snotel Location'], values = pivot_values_columns)\n",
    "    \n",
    "        all_year_dataframes.append(pivoted_table)\n",
    "    \n",
    "    return pd.concat(all_year_dataframes, ignore_index=True)\n",
    "\n"
   ]
  },
  {
   "cell_type": "code",
   "execution_count": 16,
   "id": "ff77a7c7",
   "metadata": {},
   "outputs": [],
   "source": [
    "dfData = getDFData()\n",
    "\n",
    "compression_opts = dict(method='zip',\n",
    "                        archive_name='df_reading.csv')  \n",
    "dfData.to_csv('out.zip', index=False,\n",
    "          compression=compression_opts)  "
   ]
  },
  {
   "cell_type": "code",
   "execution_count": null,
   "id": "6ea55133",
   "metadata": {},
   "outputs": [],
   "source": []
  },
  {
   "cell_type": "code",
   "execution_count": null,
   "id": "4526b336",
   "metadata": {},
   "outputs": [],
   "source": []
  }
 ],
 "metadata": {
  "kernelspec": {
   "display_name": "Python 3 (ipykernel)",
   "language": "python",
   "name": "python3"
  },
  "language_info": {
   "codemirror_mode": {
    "name": "ipython",
    "version": 3
   },
   "file_extension": ".py",
   "mimetype": "text/x-python",
   "name": "python",
   "nbconvert_exporter": "python",
   "pygments_lexer": "ipython3",
   "version": "3.10.6"
  }
 },
 "nbformat": 4,
 "nbformat_minor": 5
}
